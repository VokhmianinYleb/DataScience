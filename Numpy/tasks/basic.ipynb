{
 "cells": [
  {
   "cell_type": "code",
   "execution_count": 33,
   "metadata": {},
   "outputs": [
    {
     "name": "stdout",
     "output_type": "stream",
     "text": [
      "[[ 650    0   10  871  650]\n",
      " [6384 2856 6696 5640 2813]]\n"
     ]
    }
   ],
   "source": [
    "\"\"\"59. Write a NumPy program to multiply two given arrays of the same size element-by-element.\"\"\"\n",
    "import numpy as np \n",
    "from numpy import random\n",
    "\n",
    "def get_random_int_list(max_ = 100, size = 5):\n",
    "    return random.randint(max_, size = size)\n",
    "\n",
    "print(np.multiply(np.array([get_random_int_list(), get_random_int_list()]), np.array([get_random_int_list(), get_random_int_list()])))"
   ]
  },
  {
   "cell_type": "code",
   "execution_count": 37,
   "metadata": {},
   "outputs": [
    {
     "name": "stdout",
     "output_type": "stream",
     "text": [
      "[[21 24 30 37 41]\n",
      " [29 54 64 90 93]]\n",
      "[[41 37 30 21 24]\n",
      " [54 93 90 29 64]]\n"
     ]
    }
   ],
   "source": [
    "\"\"\"52. Write a NumPy program to sort a given array by row and column in ascending order.\"\"\"\n",
    "\n",
    "import numpy as np  \n",
    "\n",
    "def get_random_int_list(max_ = 100, size = 5):\n",
    "    return random.randint(max_, size = size)\n",
    "\n",
    "\n",
    "n = np.array([get_random_int_list(), get_random_int_list()])\n",
    "\n",
    "print(np.sort(n))\n",
    "print(np.sort(n, axis = 0))"
   ]
  },
  {
   "cell_type": "code",
   "execution_count": 38,
   "metadata": {},
   "outputs": [
    {
     "name": "stdout",
     "output_type": "stream",
     "text": [
      "[[0 0 0 0 0 0]\n",
      " [0 0 0 0 0 0]\n",
      " [0 0 0 0 0 0]\n",
      " [0 0 0 0 0 0]\n",
      " [0 0 0 0 0 0]]\n"
     ]
    }
   ],
   "source": [
    "\"\"\"51. Write a NumPy program to create a new array of given shape (5,6) and type, filled with zeros.\"\"\"\n",
    "\n",
    "import numpy as np\n",
    "\n",
    "print(np.zeros(shape = (5, 6), dtype = 'int'))"
   ]
  }
 ],
 "metadata": {
  "kernelspec": {
   "display_name": "Python 3",
   "language": "python",
   "name": "python3"
  },
  "language_info": {
   "codemirror_mode": {
    "name": "ipython",
    "version": 3
   },
   "file_extension": ".py",
   "mimetype": "text/x-python",
   "name": "python",
   "nbconvert_exporter": "python",
   "pygments_lexer": "ipython3",
   "version": "3.10.7"
  },
  "orig_nbformat": 4
 },
 "nbformat": 4,
 "nbformat_minor": 2
}
