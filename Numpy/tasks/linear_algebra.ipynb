{
 "cells": [
  {
   "cell_type": "code",
   "execution_count": 7,
   "metadata": {},
   "outputs": [
    {
     "name": "stdout",
     "output_type": "stream",
     "text": [
      "[[1892 4770]\n",
      " [3916 5510]]\n"
     ]
    }
   ],
   "source": [
    "\"\"\"1. Write a NumPy program to compute the multiplication of two given matrixes.\"\"\"\n",
    "\n",
    "import numpy as np\n",
    "\n",
    "def get_random_int_list(max_ = 100, size = 2):\n",
    "    return np.random.randint(max_, size = size)\n",
    "\n",
    "print(np.dot([get_random_int_list(), get_random_int_list()], [get_random_int_list(), get_random_int_list()]))"
   ]
  },
  {
   "cell_type": "code",
   "execution_count": 8,
   "metadata": {},
   "outputs": [
    {
     "name": "stdout",
     "output_type": "stream",
     "text": [
      "[[ 232 1450 1305  580]\n",
      " [ 464 2900 2610 1160]\n",
      " [ 792 4950 4455 1980]\n",
      " [ 464 2900 2610 1160]]\n"
     ]
    }
   ],
   "source": [
    "\"\"\"2. Write a NumPy program to compute the outer product of two given vectors.\"\"\"\n",
    "\n",
    "import numpy as np\n",
    "\n",
    "def get_random_int_list(max_ = 100, size = 2):\n",
    "    return np.random.randint(max_, size = size)\n",
    "\n",
    "print(np.outer([get_random_int_list(), get_random_int_list()], [get_random_int_list(), get_random_int_list()]))"
   ]
  }
 ],
 "metadata": {
  "kernelspec": {
   "display_name": "Python 3",
   "language": "python",
   "name": "python3"
  },
  "language_info": {
   "codemirror_mode": {
    "name": "ipython",
    "version": 3
   },
   "file_extension": ".py",
   "mimetype": "text/x-python",
   "name": "python",
   "nbconvert_exporter": "python",
   "pygments_lexer": "ipython3",
   "version": "3.10.7"
  },
  "orig_nbformat": 4
 },
 "nbformat": 4,
 "nbformat_minor": 2
}
