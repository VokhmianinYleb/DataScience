{
 "cells": [
  {
   "cell_type": "code",
   "execution_count": 15,
   "metadata": {},
   "outputs": [
    {
     "name": "stdout",
     "output_type": "stream",
     "text": [
      "Subtraction is :  10\n"
     ]
    }
   ],
   "source": [
    "## This is a Sequential statement\n",
    " \n",
    "a=20\n",
    "b=10\n",
    "c=a-b\n",
    "print(\"Subtraction is : \",c)"
   ]
  },
  {
   "cell_type": "code",
   "execution_count": 9,
   "metadata": {},
   "outputs": [
    {
     "name": "stdout",
     "output_type": "stream",
     "text": [
      "n is an even number\n"
     ]
    }
   ],
   "source": [
    "n = 10\n",
    "if n % 2 == 0:\n",
    "   print(\"n is an even number\")"
   ]
  },
  {
   "cell_type": "code",
   "execution_count": 10,
   "metadata": {},
   "outputs": [
    {
     "name": "stdout",
     "output_type": "stream",
     "text": [
      "n is odd\n"
     ]
    }
   ],
   "source": [
    "n = 5\n",
    "if n % 2 == 0:\n",
    "   print(\"n is even\")\n",
    "else:\n",
    "   print(\"n is odd\")"
   ]
  },
  {
   "cell_type": "code",
   "execution_count": 11,
   "metadata": {},
   "outputs": [
    {
     "name": "stdout",
     "output_type": "stream",
     "text": [
      "c is big\n"
     ]
    }
   ],
   "source": [
    "a = 5\n",
    "b = 10\n",
    "c = 15\n",
    "if a > b:\n",
    "   if a > c:\n",
    "      print(\"a value is big\")\n",
    "   else:\n",
    "       print(\"c value is big\")\n",
    "elif b > c:\n",
    "    print(\"b value is big\")\n",
    "else:\n",
    "     print(\"c is big\")"
   ]
  },
  {
   "cell_type": "code",
   "execution_count": 12,
   "metadata": {},
   "outputs": [
    {
     "name": "stdout",
     "output_type": "stream",
     "text": [
      "x is greater than y\n"
     ]
    }
   ],
   "source": [
    "x = 15\n",
    "y = 12\n",
    "if x == y:\n",
    "   print(\"Both are Equal\")\n",
    "elif x > y:\n",
    "    print(\"x is greater than y\")\n",
    "else:\n",
    "    print(\"x is smaller than y\")"
   ]
  },
  {
   "cell_type": "code",
   "execution_count": 13,
   "metadata": {},
   "outputs": [
    {
     "name": "stdout",
     "output_type": "stream",
     "text": [
      "1st example\n",
      "1 \n",
      "2 \n",
      "3 \n",
      "2nd example\n",
      "0 \n",
      "1 \n",
      "2 \n",
      "3 \n",
      "4 \n"
     ]
    }
   ],
   "source": [
    "print(\"1st example\")\n",
    "\n",
    "lst = [1, 2, 3]\n",
    "for i in range(len(lst)):\n",
    "     print(lst[i], end = \" \\n\")\n",
    " \n",
    "print(\"2nd example\")\n",
    "\n",
    "for j in range(0,5):\n",
    "    print(j, end = \" \\n\")"
   ]
  },
  {
   "cell_type": "code",
   "execution_count": 14,
   "metadata": {},
   "outputs": [
    {
     "name": "stdout",
     "output_type": "stream",
     "text": [
      "0 1 2 3 4 End\n"
     ]
    }
   ],
   "source": [
    "m = 5\n",
    "i = 0\n",
    "while i < m:\n",
    "     print(i, end = \" \")\n",
    "     i = i + 1\n",
    "print(\"End\")"
   ]
  },
  {
   "cell_type": "code",
   "execution_count": null,
   "metadata": {},
   "outputs": [],
   "source": [
    "def user_check(choice):\n",
    "    if choice == 1:\n",
    "        print(\"Admin\")\n",
    "    elif choice == 2:\n",
    "        print(\"Editor\")\n",
    "    elif choice == 3:\n",
    "        print(\"Guest\")\n",
    "    else:\n",
    "        print(\"Wrong entry\")\n",
    "\n",
    "user_check(1)\n",
    "user_check(2)\n",
    "user_check(3)\n",
    "user_check(4)"
   ]
  },
  {
   "cell_type": "code",
   "execution_count": 18,
   "metadata": {},
   "outputs": [
    {
     "name": "stdout",
     "output_type": "stream",
     "text": [
      "1 is smaller than 2\n"
     ]
    }
   ],
   "source": [
    "num1 = int(input('Enter first number '))\n",
    "num2 = int(input('Enter second number '))\n",
    "\n",
    "if num1 >= num2:\n",
    "    if num1 == num2:\n",
    "        print(num1, 'and', num2, 'are equal')\n",
    "    else:\n",
    "        print(num1, 'is greater than', num2)\n",
    "else:\n",
    "    print(num1, 'is smaller than', num2)"
   ]
  },
  {
   "cell_type": "code",
   "execution_count": 17,
   "metadata": {},
   "outputs": [
    {
     "name": "stdout",
     "output_type": "stream",
     "text": [
      "positive\n"
     ]
    }
   ],
   "source": [
    "number = 56\n",
    "if number > 0: print(\"positive\") \n",
    "else: print(\"negative\")"
   ]
  },
  {
   "cell_type": "code",
   "execution_count": 16,
   "metadata": {},
   "outputs": [
    {
     "name": "stdout",
     "output_type": "stream",
     "text": [
      "1 2 3 4 5 "
     ]
    }
   ],
   "source": [
    "x = 1\n",
    "while x <= 5: print(x,end=\" \"); x = x+1"
   ]
  },
  {
   "cell_type": "code",
   "execution_count": null,
   "metadata": {},
   "outputs": [],
   "source": [
    "# elif Statement\n",
    "\n",
    "pet_type = \"fish\"\n",
    "\n",
    "if pet_type == \"dog\":\n",
    "  print(\"You have a dog.\")\n",
    "elif pet_type == \"cat\":\n",
    "  print(\"You have a cat.\")\n",
    "elif pet_type == \"fish\":\n",
    "  # this is performed\n",
    "  print(\"You have a fish\")\n",
    "else:\n",
    "  print(\"Not sure!\")"
   ]
  },
  {
   "cell_type": "code",
   "execution_count": 19,
   "metadata": {},
   "outputs": [
    {
     "data": {
      "text/plain": [
       "True"
      ]
     },
     "execution_count": 19,
     "metadata": {},
     "output_type": "execute_result"
    }
   ],
   "source": [
    "True or True      # Evaluates to True\n",
    "True or False     # Evaluates to True\n",
    "False or False    # Evaluates to False\n",
    "1 < 2 or 3 < 1    # Evaluates to True\n",
    "3 < 1 or 1 > 6    # Evaluates to False\n",
    "1 == 1 or 1 < 2   # Evaluates to True"
   ]
  },
  {
   "cell_type": "code",
   "execution_count": null,
   "metadata": {},
   "outputs": [],
   "source": [
    "# Equal operator\n",
    "\n",
    "if 'Yes' == 'Yes':\n",
    "  # evaluates to True\n",
    "  print('They are equal')\n",
    "\n",
    "if (2 > 1) == (5 < 10):\n",
    "  # evaluates to True\n",
    "  print('Both expressions give the same result')\n",
    "\n",
    "c = '2'\n",
    "d = 2\n",
    "\n",
    "if c == d:\n",
    "  print('They are equal')\n",
    "else:\n",
    "  print('They are not equal')"
   ]
  },
  {
   "cell_type": "code",
   "execution_count": null,
   "metadata": {},
   "outputs": [],
   "source": [
    "# Not Equals Operator\n",
    "\n",
    "if \"Yes\" != \"No\":\n",
    "  # evaluates to True\n",
    "  print(\"They are NOT equal\")\n",
    "\n",
    "val1 = 10\n",
    "val2 = 20\n",
    "\n",
    "if val1 != val2:\n",
    "  print(\"They are NOT equal\")\n",
    "\n",
    "if (10 > 1) != (10 > 1000):\n",
    "  # True != False\n",
    "  print(\"They are NOT equal\")"
   ]
  },
  {
   "cell_type": "code",
   "execution_count": 20,
   "metadata": {},
   "outputs": [
    {
     "data": {
      "text/plain": [
       "True"
      ]
     },
     "execution_count": 20,
     "metadata": {},
     "output_type": "execute_result"
    }
   ],
   "source": [
    "\n",
    "a = 2\n",
    "b = 3\n",
    "a < b  # evaluates to True\n",
    "a > b  # evaluates to False\n",
    "a >= b # evaluates to False\n",
    "a <= b # evaluates to True\n",
    "a <= a # evaluates to True"
   ]
  },
  {
   "cell_type": "code",
   "execution_count": null,
   "metadata": {},
   "outputs": [],
   "source": [
    "# if Statement\n",
    "\n",
    "test_value = 100\n",
    "\n",
    "if test_value > 1:\n",
    "  # Expression evaluates to True\n",
    "  print(\"This code is executed!\")\n",
    "\n",
    "if test_value > 1000:\n",
    "  # Expression evaluates to False\n",
    "  print(\"This code is NOT executed!\")\n",
    "\n",
    "print(\"Program continues at this point.\")"
   ]
  },
  {
   "cell_type": "code",
   "execution_count": null,
   "metadata": {},
   "outputs": [],
   "source": [
    "# else Statement\n",
    "\n",
    "test_value = 50\n",
    "\n",
    "if test_value < 1:\n",
    "  print(\"Value is < 1\")\n",
    "else:\n",
    "  print(\"Value is >= 1\")\n",
    "\n",
    "test_string = \"VALID\"\n",
    "\n",
    "if test_string == \"NOT_VALID\":\n",
    "  print(\"String equals NOT_VALID\")\n",
    "else:\n",
    "  print(\"String equals something else!\")"
   ]
  },
  {
   "cell_type": "code",
   "execution_count": null,
   "metadata": {},
   "outputs": [],
   "source": [
    "is_true = True\n",
    "is_false = False\n",
    "\n",
    "print(type(is_true)) \n",
    "# will output: <class 'bool'>"
   ]
  }
 ],
 "metadata": {
  "kernelspec": {
   "display_name": "Python 3",
   "language": "python",
   "name": "python3"
  },
  "language_info": {
   "codemirror_mode": {
    "name": "ipython",
    "version": 3
   },
   "file_extension": ".py",
   "mimetype": "text/x-python",
   "name": "python",
   "nbconvert_exporter": "python",
   "pygments_lexer": "ipython3",
   "version": "3.10.7"
  },
  "orig_nbformat": 4
 },
 "nbformat": 4,
 "nbformat_minor": 2
}
