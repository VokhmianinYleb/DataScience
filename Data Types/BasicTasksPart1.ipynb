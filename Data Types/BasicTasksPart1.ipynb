{
 "cells": [
  {
   "attachments": {},
   "cell_type": "markdown",
   "metadata": {},
   "source": [
    "[Python Basic (Part -I) - Exercises, Practice, Solution](https://www.w3resource.com/python-exercises/python-basic-exercises.php)"
   ]
  },
  {
   "cell_type": "code",
   "execution_count": 1,
   "metadata": {},
   "outputs": [
    {
     "name": "stdout",
     "output_type": "stream",
     "text": [
      "a is a list\n"
     ]
    }
   ],
   "source": [
    "def task145(a):\n",
    "\t\"\"\"145. Write a Python program to test if a variable is a list, tuple, or set.\"\"\"\n",
    "\t\n",
    "\tif isinstance(a, list):\n",
    "\t\treturn 'a is a list'\n",
    "\t\n",
    "\tif isinstance(a, tuple):\n",
    "\t\treturn 'a is a tuple'\n",
    "\t\n",
    "\tif isinstance(a, set):\n",
    "\t\treturn 'a is a set'\n",
    "\t\n",
    "print(task145([1, 2, 3]))"
   ]
  },
  {
   "cell_type": "code",
   "execution_count": 10,
   "metadata": {},
   "outputs": [
    {
     "name": "stdout",
     "output_type": "stream",
     "text": [
      "Location of Python os module sources:\n",
      "(<_io.TextIOWrapper name='c:\\\\MyPrograms\\\\Python\\\\lib\\\\random.py' mode='r' encoding='utf-8'>, 'c:\\\\MyPrograms\\\\Python\\\\lib\\\\random.py', ('.py', 'r', 1))\n"
     ]
    }
   ],
   "source": [
    "import imp\n",
    "\n",
    "def task146(module):\n",
    "\t\"\"\"146. Write a Python program to find the location of Python module sources.\"\"\"\n",
    "\t\n",
    "\tprint(\"Location of Python os module sources:\")\n",
    "\treturn imp.find_module(module)\n",
    "\n",
    "print(task146('random'))"
   ]
  },
  {
   "cell_type": "code",
   "execution_count": 14,
   "metadata": {},
   "outputs": [
    {
     "name": "stdout",
     "output_type": "stream",
     "text": [
      "False\n"
     ]
    }
   ],
   "source": [
    "def task147(a, b):\n",
    "\t\"\"\"147. Write a Python function to check whether a number is divisible by another number. Accept two integer values from the user.\"\"\"\n",
    "\n",
    "\treturn not a % b\n",
    "\n",
    "print(task147(20, 5))\n",
    "\n"
   ]
  },
  {
   "cell_type": "code",
   "execution_count": 15,
   "metadata": {},
   "outputs": [
    {
     "name": "stdout",
     "output_type": "stream",
     "text": [
      "(-5, 75)\n"
     ]
    }
   ],
   "source": [
    "def task148(simple_list):\n",
    "\t\"\"\"148. Write a Python function to find the maximum and minimum numbers from a sequence of numbers.\n",
    "\tNote: Do not use built-in functions.\"\"\"\n",
    "\n",
    "\tmin, max = simple_list[0], simple_list[0]\n",
    "\n",
    "\tfor i in simple_list:\n",
    "\t\tif i < min:\n",
    "\t\t\tmin = i\n",
    "\t\tif i > max:\n",
    "\t\t\tmax = i\n",
    "\n",
    "\treturn min, max\n",
    "\n",
    "print(task148([0, 10, 15, 40, -5, 42, 17, 28, 75]))\n"
   ]
  },
  {
   "cell_type": "code",
   "execution_count": 16,
   "metadata": {},
   "outputs": [
    {
     "name": "stdout",
     "output_type": "stream",
     "text": [
      "9\n"
     ]
    }
   ],
   "source": [
    "def task149(n):\n",
    "\t\"\"\"149. Write a Python function that takes a positive integer and returns the sum of the cube of all positive integers smaller than the specified number.\"\"\"\n",
    "\n",
    "\tresult = 0\n",
    "\tfor i in range(n):\n",
    "\t\tresult += i ** 3\n",
    "\n",
    "\treturn result\n",
    "\n",
    "print(task149(3))"
   ]
  },
  {
   "cell_type": "code",
   "execution_count": 21,
   "metadata": {},
   "outputs": [
    {
     "name": "stdout",
     "output_type": "stream",
     "text": [
      "False\n"
     ]
    }
   ],
   "source": [
    "def task150(simple_list):\n",
    "\t\"\"\"150. Write a Python function to check whether a distinct pair of numbers whose product is odd is present in a sequence of integer values.\"\"\"\n",
    "\n",
    "\tfor i in range(len(simple_list)):\n",
    "\t\tfor j in range(i + 1, len(simple_list)):\n",
    "\t\t\tif simple_list[i] * simple_list[j] % 2:\n",
    "\t\t\t\treturn True\n",
    "\n",
    "\treturn False\n",
    "\n",
    "print(task150([2, 4, 6, 8]))\n"
   ]
  }
 ],
 "metadata": {
  "kernelspec": {
   "display_name": "Python 3",
   "language": "python",
   "name": "python3"
  },
  "language_info": {
   "codemirror_mode": {
    "name": "ipython",
    "version": 3
   },
   "file_extension": ".py",
   "mimetype": "text/x-python",
   "name": "python",
   "nbconvert_exporter": "python",
   "pygments_lexer": "ipython3",
   "version": "3.10.7"
  },
  "orig_nbformat": 4
 },
 "nbformat": 4,
 "nbformat_minor": 2
}
