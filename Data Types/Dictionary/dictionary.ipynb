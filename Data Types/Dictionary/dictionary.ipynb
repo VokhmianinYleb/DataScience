{
 "cells": [
  {
   "cell_type": "code",
   "execution_count": 2,
   "metadata": {},
   "outputs": [
    {
     "name": "stdout",
     "output_type": "stream",
     "text": [
      "15\n"
     ]
    }
   ],
   "source": [
    "\"\"\"Write a Python program to sum all the items in a dictionary.\"\"\"\n",
    "\n",
    "a = {'key1': 1, 'key2': 2, 'key3': 3, 'key4': 4, 'key5': 5}\n",
    "\n",
    "print(sum(a.values()))"
   ]
  },
  {
   "cell_type": "code",
   "execution_count": 3,
   "metadata": {},
   "outputs": [
    {
     "name": "stdout",
     "output_type": "stream",
     "text": [
      "120\n"
     ]
    }
   ],
   "source": [
    "\"\"\"Write a Python program to multiply all the items in a dictionary.\"\"\"\n",
    "\"\"\"Kseniia Yashyna17:06\n",
    "A question/quiz for the general SIRIS mind: which are the fields in which the order of authors in a publications matters?\n",
    "Write a Python script to check whether a given key already exists in a dictionary.\n",
    "Kseniia Yashyna17:18\n",
    "Write a Python program to sum all the items in a dictionary.\n",
    "Kseniia Yashyna17:20\n",
    "Write a Python program to create a dictionary from a string.\n",
    "Note: Track the count of the letters from the string.\n",
    "Sample string : 'w3resource'\n",
    "Expected output: {'w': 1, '3': 1, 'r': 2, 'e': 2, 's': 1, 'o': 1, 'u': 1, 'c': 1}\"\"\"\n",
    "a = {'key1': 1, 'key2': 2, 'key3': 3, 'key4': 4, 'key5': 5}\n",
    "result = 1\n",
    "\n",
    "for value in a.values():\n",
    "    result *= value\n",
    "    \n",
    "print(result)"
   ]
  }
 ],
 "metadata": {
  "kernelspec": {
   "display_name": "Python 3",
   "language": "python",
   "name": "python3"
  },
  "language_info": {
   "codemirror_mode": {
    "name": "ipython",
    "version": 3
   },
   "file_extension": ".py",
   "mimetype": "text/x-python",
   "name": "python",
   "nbconvert_exporter": "python",
   "pygments_lexer": "ipython3",
   "version": "3.10.7"
  },
  "orig_nbformat": 4
 },
 "nbformat": 4,
 "nbformat_minor": 2
}
