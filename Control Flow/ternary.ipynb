{
 "cells": [
  {
   "cell_type": "code",
   "execution_count": null,
   "metadata": {},
   "outputs": [],
   "source": [
    "# Program to demonstrate conditional operator\n",
    "a, b = 10, 20\n",
    "\n",
    "# Copy value of a in min if a < b else copy b\n",
    "min = a if a < b else b\n",
    "\n",
    "print(min)\n"
   ]
  },
  {
   "cell_type": "code",
   "execution_count": 2,
   "metadata": {},
   "outputs": [
    {
     "name": "stdout",
     "output_type": "stream",
     "text": [
      "10\n",
      "10\n",
      "10\n"
     ]
    }
   ],
   "source": [
    "# Python program to demonstrate ternary operator\n",
    "a, b = 10, 20\n",
    "\n",
    "# Use tuple for selecting an item\n",
    "# (if_test_false,if_test_true)[test]\n",
    "# if [a<b] is true it return 1, so element with 1 index will print\n",
    "# else if [a<b] is false it return 0, so element with 0 index will print\n",
    "print( (b, a) [a < b] )\n",
    "\n",
    "# Use Dictionary for selecting an item\n",
    "# if [a < b] is true then value of True key will print\n",
    "# else if [a<b] is false then value of False key will print\n",
    "print({True: a, False: b} [a < b])\n",
    "\n",
    "# lambda is more efficient than above two methods\n",
    "# because in lambda we are assure that\n",
    "# only one expression will be evaluated unlike in\n",
    "# tuple and Dictionary\n",
    "print((lambda: b, lambda: a)[a < b]())\n"
   ]
  },
  {
   "cell_type": "code",
   "execution_count": null,
   "metadata": {},
   "outputs": [],
   "source": [
    "# Python program to demonstrate nested ternary operator\n",
    "a, b = 10, 20\n",
    "\n",
    "print (\"Both a and b are equal\" if a == b else \"a is greater than b\"\n",
    "\t\tif a > b else \"b is greater than a\")\n"
   ]
  },
  {
   "cell_type": "code",
   "execution_count": null,
   "metadata": {},
   "outputs": [],
   "source": [
    "# Python program to demonstrate nested ternary operator\n",
    "a, b = 10, 20\n",
    "\n",
    "if a != b:\n",
    "\tif a > b:\n",
    "\t\tprint(\"a is greater than b\")\n",
    "\telse:\n",
    "\t\tprint(\"b is greater than a\")\n",
    "else:\n",
    "\tprint(\"Both a and b are equal\")\n"
   ]
  },
  {
   "cell_type": "code",
   "execution_count": null,
   "metadata": {},
   "outputs": [],
   "source": [
    "a=5\n",
    "b=7\n",
    "\n",
    "# [statement_on_True] if [condition] else [statement_on_false]\n",
    "\n",
    "print(a,\"is greater\") if (a>b) else print(b,\"is Greater\")\n"
   ]
  },
  {
   "cell_type": "code",
   "execution_count": null,
   "metadata": {},
   "outputs": [],
   "source": [
    "# Program to demonstrate conditional operator\n",
    "a, b = 10, 20\n",
    "\n",
    "# If a is less than b, then a is assigned\n",
    "# else b is assigned (Note : it doesn't\n",
    "# work if a is 0.\n",
    "min = a < b and a or b\n",
    "\n",
    "print(min)\n"
   ]
  },
  {
   "cell_type": "code",
   "execution_count": 1,
   "metadata": {},
   "outputs": [
    {
     "name": "stdout",
     "output_type": "stream",
     "text": [
      "The number 3 is odd.\n",
      "The number 5 is odd.\n",
      "The number 2 is even.\n",
      "The number 8 is even.\n",
      "The number 4 is even.\n"
     ]
    }
   ],
   "source": [
    "# Define the data to be evaluated\n",
    "data = [3, 5, 2, 8, 4]\n",
    "# Use a for loop to evaluate each element in the data\n",
    "for num in data:\n",
    "\t# Use the ternary operator to determine if the number is even or odd\n",
    "\tresult = 'even' if num % 2 == 0 else 'odd'\n",
    "\t# Optionally, print the result of the ternary operator for each element\n",
    "\tprint(f'The number {num} is {result}.')\n"
   ]
  }
 ],
 "metadata": {
  "kernelspec": {
   "display_name": "Python 3",
   "language": "python",
   "name": "python3"
  },
  "language_info": {
   "codemirror_mode": {
    "name": "ipython",
    "version": 3
   },
   "file_extension": ".py",
   "mimetype": "text/x-python",
   "name": "python",
   "nbconvert_exporter": "python",
   "pygments_lexer": "ipython3",
   "version": "3.10.7"
  },
  "orig_nbformat": 4
 },
 "nbformat": 4,
 "nbformat_minor": 2
}
