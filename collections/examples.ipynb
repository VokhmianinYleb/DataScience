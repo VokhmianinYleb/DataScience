{
 "cells": [
  {
   "cell_type": "code",
   "execution_count": 2,
   "metadata": {},
   "outputs": [
    {
     "name": "stdout",
     "output_type": "stream",
     "text": [
      "Fish(name='Sammy', species='shark', tank='tank-a')\n",
      "shark\n",
      "shark\n"
     ]
    }
   ],
   "source": [
    "from collections import namedtuple\n",
    "\n",
    "Fish = namedtuple(\"Fish\", [\"name\", \"species\", \"tank\"])\n",
    "\n",
    "sammy = Fish(\"Sammy\", \"shark\", \"tank-a\")\n",
    "\n",
    "print(sammy)\n",
    "print(sammy.species)\n",
    "print(sammy[1])"
   ]
  },
  {
   "cell_type": "code",
   "execution_count": 3,
   "metadata": {},
   "outputs": [
    {
     "name": "stdout",
     "output_type": "stream",
     "text": [
      "[]\n"
     ]
    }
   ],
   "source": [
    "from collections import defaultdict\n",
    "\n",
    "my_defaultdict = defaultdict(list)\n",
    "\n",
    "print(my_defaultdict[\"missing\"])"
   ]
  },
  {
   "cell_type": "code",
   "execution_count": 4,
   "metadata": {},
   "outputs": [
    {
     "name": "stdout",
     "output_type": "stream",
     "text": [
      "defaultdict(<class 'list'>, {'tank-a': ['Sammy', 'Mary'], 'tank-b': ['Jamie']})\n"
     ]
    }
   ],
   "source": [
    "from collections import defaultdict\n",
    "\n",
    "fish_inventory = [\n",
    "    (\"Sammy\", \"shark\", \"tank-a\"),\n",
    "    (\"Jamie\", \"cuttlefish\", \"tank-b\"),\n",
    "    (\"Mary\", \"squid\", \"tank-a\"),\n",
    "]\n",
    "fish_names_by_tank = defaultdict(list)\n",
    "for name, species, tank in fish_inventory:\n",
    "    fish_names_by_tank[tank].append(name)\n",
    "\n",
    "print(fish_names_by_tank)"
   ]
  },
  {
   "cell_type": "code",
   "execution_count": 5,
   "metadata": {},
   "outputs": [
    {
     "name": "stdout",
     "output_type": "stream",
     "text": [
      "['Alice', 'Sammy', 'Jamie', 'Mary']\n"
     ]
    }
   ],
   "source": [
    "favorite_fish_list = [\"Sammy\", \"Jamie\", \"Mary\"]\n",
    "\n",
    "# O(n) performance\n",
    "favorite_fish_list.insert(0, \"Alice\")\n",
    "\n",
    "print(favorite_fish_list)"
   ]
  },
  {
   "cell_type": "code",
   "execution_count": 6,
   "metadata": {},
   "outputs": [
    {
     "name": "stdout",
     "output_type": "stream",
     "text": [
      "deque(['Alice', 'Sammy', 'Jamie', 'Mary'])\n"
     ]
    }
   ],
   "source": [
    "from collections import deque\n",
    "\n",
    "favorite_fish_deque = deque([\"Sammy\", \"Jamie\", \"Mary\"])\n",
    "\n",
    "# O(1) performance\n",
    "favorite_fish_deque.appendleft(\"Alice\")\n",
    "\n",
    "print(favorite_fish_deque)"
   ]
  },
  {
   "cell_type": "code",
   "execution_count": 7,
   "metadata": {},
   "outputs": [
    {
     "name": "stdout",
     "output_type": "stream",
     "text": [
      "courses(name='data science', tech='python')\n"
     ]
    }
   ],
   "source": [
    "from collections import namedtuple\n",
    "\n",
    "a = namedtuple('courses' , 'name , tech')\n",
    "s = a('data science' , 'python')\n",
    "print(s)\n",
    " \n",
    "#the output will be courses(name='python' , tech='python')"
   ]
  },
  {
   "cell_type": "code",
   "execution_count": 9,
   "metadata": {},
   "outputs": [
    {
     "name": "stdout",
     "output_type": "stream",
     "text": [
      "deque(['d', 'u', 'r', 'e', 'k'])\n",
      "deque(['d', 'u', 'r', 'e', 'k', 'a'])\n",
      "deque(['e', 'd', 'u', 'r', 'e', 'k', 'a'])\n",
      "deque(['e', 'd', 'u', 'r', 'e', 'k'])\n",
      "deque(['d', 'u', 'r', 'e', 'k'])\n"
     ]
    }
   ],
   "source": [
    "#creating a deque\n",
    "from collections import deque\n",
    " \n",
    "a = ['d' , 'u' , 'r' , 'e' , 'k']\n",
    "a1 = deque(a)\n",
    "print(a1)\n",
    "#the output will be deque([ 'd' , 'u' , 'r' , 'e' , 'k' ])\n",
    "\n",
    "a1.append('a')\n",
    "print(a1)\n",
    "# the output will be deque([ 'd' , 'u' , 'r' , 'e' , 'k' , 'a' ])\n",
    "a1.appendleft('e')\n",
    "print(a1)\n",
    "# the output will be deque(['e' , 'd' , 'u' , 'r' , 'e' , 'k' , 'a' ])\n",
    "\n",
    "a1.pop()\n",
    "print(a1)\n",
    "#the output will be deque([ 'e' , 'd' , 'u' , 'r' , 'e' , 'k' ])\n",
    "a1.popleft()\n",
    "print(a1)\n",
    "#the output will be deque([ 'd' , 'u' , 'r' , 'e' , 'k' ])"
   ]
  },
  {
   "cell_type": "code",
   "execution_count": 11,
   "metadata": {},
   "outputs": [
    {
     "name": "stdout",
     "output_type": "stream",
     "text": [
      "ChainMap({1: 'edureka', 2: 'python'}, {3: 'data science', 4: 'Machine learning'})\n",
      "ChainMap({5: 'AI', 6: 'neural networks'}, {1: 'edureka', 2: 'python'}, {3: 'data science', 4: 'Machine learning'})\n"
     ]
    }
   ],
   "source": [
    "from collections import ChainMap\n",
    "a = { 1: 'edureka' , 2: 'python'}\n",
    "b = {3: 'data science' , 4: 'Machine learning'}\n",
    "c = ChainMap(a,b)\n",
    "print(c)\n",
    "#the output will be ChainMap[{1: 'edureka' , 2: 'python'} , {3: 'data science' , 4: 'Machine learning'}]\n",
    "\n",
    "a1 = { 5: 'AI' , 6: 'neural networks'}\n",
    "c1 = c.new_child(a1)\n",
    "print(c1)\n",
    "#the output will be ChainMap[{1: 'edureka' , 2: 'python'} , {3: 'data science' , 4: 'Machine learning'}, { 5: 'AI' , 6: 'neural networks'}]\n",
    "\n"
   ]
  },
  {
   "cell_type": "code",
   "execution_count": 12,
   "metadata": {},
   "outputs": [
    {
     "name": "stdout",
     "output_type": "stream",
     "text": [
      "Counter({1: 4, 3: 4, 4: 2, 2: 1})\n"
     ]
    }
   ],
   "source": [
    "from collections import Counter\n",
    "a = [1,1,1,1,2,3,3,4,3,3,4]\n",
    "c = Counter(a)\n",
    "print(c)\n",
    "#the output will be Counter = ({1:4 , 2:1 , 3:4 , 4:2})"
   ]
  },
  {
   "cell_type": "code",
   "execution_count": 13,
   "metadata": {},
   "outputs": [
    {
     "name": "stdout",
     "output_type": "stream",
     "text": [
      "OrderedDict([(1, 'e'), (2, 'd'), (3, 'u'), (4, 'r'), (5, 'e'), (6, 'k'), (7, 'a')])\n"
     ]
    }
   ],
   "source": [
    "from collections import OrderedDict\n",
    "od = OrderedDict()\n",
    "od[1] = 'e'\n",
    "od[2] = 'd'\n",
    "od[3] = 'u'\n",
    "od[4] = 'r'\n",
    "od[5] = 'e'\n",
    "od[6] = 'k'\n",
    "od[7] = 'a'\n",
    "print(od)\n",
    "#the output will be OrderedDict[(1 , 'e'), (2 , 'd') , (3 , 'u'), (4 , 'r'), (5 , 'e'), (6 , 'k'), (7 , 'a')]\n"
   ]
  },
  {
   "cell_type": "code",
   "execution_count": 14,
   "metadata": {},
   "outputs": [
    {
     "name": "stdout",
     "output_type": "stream",
     "text": [
      "0\n"
     ]
    }
   ],
   "source": [
    "from collections import defaultdict\n",
    "d = defaultdict(int)\n",
    "#we have to specify a type as well.\n",
    "d[1] = 'edureka'\n",
    "d[2] = 'python'\n",
    "print(d[3])\n",
    "#it will give the output as 0 instead of keyerror."
   ]
  }
 ],
 "metadata": {
  "kernelspec": {
   "display_name": "Python 3",
   "language": "python",
   "name": "python3"
  },
  "language_info": {
   "codemirror_mode": {
    "name": "ipython",
    "version": 3
   },
   "file_extension": ".py",
   "mimetype": "text/x-python",
   "name": "python",
   "nbconvert_exporter": "python",
   "pygments_lexer": "ipython3",
   "version": "3.10.7"
  },
  "orig_nbformat": 4
 },
 "nbformat": 4,
 "nbformat_minor": 2
}
