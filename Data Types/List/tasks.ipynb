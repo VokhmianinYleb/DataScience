{
 "cells": [
  {
   "cell_type": "code",
   "execution_count": 12,
   "id": "7ad50057-c588-4492-a511-cb2679de3914",
   "metadata": {},
   "outputs": [
    {
     "name": "stdout",
     "output_type": "stream",
     "text": [
      "False\n",
      "True\n",
      "False\n"
     ]
    }
   ],
   "source": [
    "def task17(example_list):\n",
    "\t\"\"\"Write a Python program to check if each number is prime in a given list of numbers. Return True if all numbers are prime otherwise False.\n",
    "\tSample Data:\n",
    "\t([0, 3, 4, 7, 9]) -> False\n",
    "\t([3, 5, 7, 13]) -> True\n",
    "\t([1, 5, 3]) -> False\"\"\"\n",
    "\t\n",
    "\tdef is_prime(n):\n",
    "\t\tif n < 2:\n",
    "\t\t\treturn False\n",
    "\n",
    "\t\tfor i in range(2, int(n**0.5) + 1):\n",
    "\t\t\tif n % i == 0:\n",
    "\t\t\t\treturn False\n",
    "\n",
    "\t\treturn True\n",
    "\n",
    "\tfor a in example_list:\n",
    "\t\tif not is_prime(a):\n",
    "\t\t\treturn False\n",
    "\treturn True\n",
    "\n",
    "print(task17([0, 3, 4, 7, 9]))\n",
    "print(task17([3, 5, 7, 13]))\n",
    "print(task17([1, 5, 3]))"
   ]
  },
  {
   "cell_type": "code",
   "execution_count": 2,
   "id": "20542bfb",
   "metadata": {},
   "outputs": [
    {
     "name": "stdout",
     "output_type": "stream",
     "text": [
      "True\n",
      "True\n"
     ]
    }
   ],
   "source": [
    "myString = \"pynative\"\n",
    "stringList = [\"abc\", \"pynative\", \"xyz\"]\n",
    "\n",
    "print(stringList[1] == myString)\n",
    "print(stringList[1] is myString)"
   ]
  },
  {
   "cell_type": "code",
   "execution_count": 3,
   "id": "001ea71e",
   "metadata": {},
   "outputs": [
    {
     "name": "stdout",
     "output_type": "stream",
     "text": [
      "False\n"
     ]
    }
   ],
   "source": [
    "str = \"My salary is 7000\";\n",
    "print(str.isalnum())"
   ]
  },
  {
   "cell_type": "code",
   "execution_count": 1,
   "id": "1977cc4d",
   "metadata": {},
   "outputs": [
    {
     "name": "stdout",
     "output_type": "stream",
     "text": [
      "True\n",
      "False\n"
     ]
    }
   ],
   "source": [
    "print(\"John\" > \"Jhon\")\n",
    "print(\"Emma\" < \"Emm\")"
   ]
  },
  {
   "cell_type": "code",
   "execution_count": 11,
   "id": "02c10630-0151-485c-a02e-79cb28f76775",
   "metadata": {},
   "outputs": [
    {
     "name": "stdout",
     "output_type": "stream",
     "text": [
      "2\n"
     ]
    }
   ],
   "source": [
    "def task25(example_list):\n",
    "\t\"\"\"Write a Python program to select an item randomly from a list.\"\"\"\n",
    "\t\n",
    "\tfrom random import choice\n",
    "\n",
    "\treturn choice(example_list)\n",
    "\n",
    "print(task25([1, 2, 3, 4, 5]))"
   ]
  },
  {
   "cell_type": "code",
   "execution_count": 10,
   "id": "c3832059-6cd4-41fd-a7f0-ed99f4e3277f",
   "metadata": {},
   "outputs": [
    {
     "name": "stdout",
     "output_type": "stream",
     "text": [
      "2\n"
     ]
    }
   ],
   "source": [
    "def task28(example_list):\n",
    "\t\"\"\"Write a Python program to find the second largest number in a list.\"\"\"\n",
    "\n",
    "\ts = set(example_list)\n",
    "\n",
    "\ttry:\n",
    "\t\ts.remove(min(s))\n",
    "\t\treturn min(s)\n",
    "\texcept:\n",
    "\t\treturn None\n",
    "\n",
    "print(task28([1, 2, 2, 1, 3, 4, 5]))"
   ]
  },
  {
   "cell_type": "code",
   "execution_count": 9,
   "id": "63353811",
   "metadata": {},
   "outputs": [
    {
     "name": "stdout",
     "output_type": "stream",
     "text": [
      "[1, 2, 3, 4, 5]\n"
     ]
    }
   ],
   "source": [
    "def task29(example_list):\n",
    "\t\"\"\"Write a Python program to get unique values from a list.\"\"\"\n",
    "\n",
    "\treturn list(set(example_list))\n",
    "\n",
    "print(task29([1, 2, 3, 4, 5, 5, 5, 5, 1, 1, 1]))"
   ]
  },
  {
   "cell_type": "code",
   "execution_count": 8,
   "id": "69303880",
   "metadata": {},
   "outputs": [
    {
     "name": "stdout",
     "output_type": "stream",
     "text": [
      "{10: 4, 20: 4, 40: 2, 50: 2, 30: 1}\n"
     ]
    }
   ],
   "source": [
    "def task30(example_list):\n",
    "\t\"\"\"Write a Python program to get the frequency of elements in a list.\"\"\"\n",
    "\n",
    "\tfrequency = {}\n",
    "\tfor el in example_list:\n",
    "\t\tif el in frequency:\n",
    "\t\t\tfrequency[el] += 1\n",
    "\t\telse:\n",
    "\t\t\tfrequency[el] = 1\n",
    "\n",
    "\treturn frequency\n",
    "\n",
    "print(task30([10, 10, 10, 10, 20, 20, 20, 20, 40, 40, 50, 50, 30]))"
   ]
  }
 ],
 "metadata": {
  "kernelspec": {
   "display_name": "Python 3 (ipykernel)",
   "language": "python",
   "name": "python3"
  },
  "language_info": {
   "codemirror_mode": {
    "name": "ipython",
    "version": 3
   },
   "file_extension": ".py",
   "mimetype": "text/x-python",
   "name": "python",
   "nbconvert_exporter": "python",
   "pygments_lexer": "ipython3",
   "version": "3.10.7"
  }
 },
 "nbformat": 4,
 "nbformat_minor": 5
}
