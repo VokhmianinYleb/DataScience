{
 "cells": [
  {
   "cell_type": "code",
   "execution_count": 1,
   "metadata": {},
   "outputs": [],
   "source": [
    "from df2gspread import df2gspread as d2g\n",
    "from df2gspread import gspread2df as g2d\n",
    "import pandas as pd"
   ]
  },
  {
   "cell_type": "code",
   "execution_count": 6,
   "metadata": {},
   "outputs": [
    {
     "ename": "InvalidClientSecretsError",
     "evalue": "('Error opening file', 'C:\\\\Users\\\\User\\\\.gdrive_private', 'No such file or directory', 2)",
     "output_type": "error",
     "traceback": [
      "\u001b[1;31m---------------------------------------------------------------------------\u001b[0m",
      "\u001b[1;31mFileNotFoundError\u001b[0m                         Traceback (most recent call last)",
      "File \u001b[1;32md:\\Programs\\Python3.10.11\\lib\\site-packages\\oauth2client\\clientsecrets.py:121\u001b[0m, in \u001b[0;36m_loadfile\u001b[1;34m(filename)\u001b[0m\n\u001b[0;32m    120\u001b[0m \u001b[39mtry\u001b[39;00m:\n\u001b[1;32m--> 121\u001b[0m     \u001b[39mwith\u001b[39;00m \u001b[39mopen\u001b[39;49m(filename, \u001b[39m'\u001b[39;49m\u001b[39mr\u001b[39;49m\u001b[39m'\u001b[39;49m) \u001b[39mas\u001b[39;00m fp:\n\u001b[0;32m    122\u001b[0m         obj \u001b[39m=\u001b[39m json\u001b[39m.\u001b[39mload(fp)\n",
      "\u001b[1;31mFileNotFoundError\u001b[0m: [Errno 2] No such file or directory: 'C:\\\\Users\\\\User\\\\.gdrive_private'",
      "\nDuring handling of the above exception, another exception occurred:\n",
      "\u001b[1;31mInvalidClientSecretsError\u001b[0m                 Traceback (most recent call last)",
      "Cell \u001b[1;32mIn[6], line 3\u001b[0m\n\u001b[0;32m      1\u001b[0m \u001b[39m# download the raw info\u001b[39;00m\n\u001b[0;32m      2\u001b[0m datasheet \u001b[39m=\u001b[39m \u001b[39m'\u001b[39m\u001b[39m16KdPTUTJUqDMFtUkrSFRPGgfprX0rCr5GoTyYekZoE8\u001b[39m\u001b[39m'\u001b[39m\n\u001b[1;32m----> 3\u001b[0m voc \u001b[39m=\u001b[39m g2d\u001b[39m.\u001b[39;49mdownload(datasheet, \u001b[39m\"\u001b[39;49m\u001b[39mNoAnemia\u001b[39;49m\u001b[39m\"\u001b[39;49m, col_names\u001b[39m=\u001b[39;49m\u001b[39mTrue\u001b[39;49;00m, row_names\u001b[39m=\u001b[39;49m\u001b[39mFalse\u001b[39;49;00m)\n",
      "File \u001b[1;32md:\\Programs\\Python3.10.11\\lib\\site-packages\\df2gspread\\gspread2df.py:60\u001b[0m, in \u001b[0;36mdownload\u001b[1;34m(gfile, wks_name, col_names, row_names, credentials, start_cell)\u001b[0m\n\u001b[0;32m     31\u001b[0m \u001b[39m\u001b[39m\u001b[39m\"\"\"\u001b[39;00m\n\u001b[0;32m     32\u001b[0m \u001b[39m    Download Google Spreadsheet and convert it to Pandas DataFrame\u001b[39;00m\n\u001b[0;32m     33\u001b[0m \n\u001b[1;32m   (...)\u001b[0m\n\u001b[0;32m     56\u001b[0m \u001b[39m        field2    3    4\u001b[39;00m\n\u001b[0;32m     57\u001b[0m \u001b[39m\"\"\"\u001b[39;00m\n\u001b[0;32m     59\u001b[0m \u001b[39m# access credentials\u001b[39;00m\n\u001b[1;32m---> 60\u001b[0m credentials \u001b[39m=\u001b[39m get_credentials(credentials)\n\u001b[0;32m     61\u001b[0m \u001b[39m# auth for gspread\u001b[39;00m\n\u001b[0;32m     62\u001b[0m gc \u001b[39m=\u001b[39m gspread\u001b[39m.\u001b[39mauthorize(credentials)\n",
      "File \u001b[1;32md:\\Programs\\Python3.10.11\\lib\\site-packages\\df2gspread\\utils.py:81\u001b[0m, in \u001b[0;36mget_credentials\u001b[1;34m(credentials, client_secret_file, refresh_token)\u001b[0m\n\u001b[0;32m     76\u001b[0m     logr\u001b[39m.\u001b[39merror(\n\u001b[0;32m     77\u001b[0m         \u001b[39m'\u001b[39m\u001b[39mUnable to parse oauth2client args; `pip install argparse`\u001b[39m\u001b[39m'\u001b[39m)\n\u001b[0;32m     79\u001b[0m \u001b[39mif\u001b[39;00m \u001b[39mnot\u001b[39;00m credentials \u001b[39mor\u001b[39;00m credentials\u001b[39m.\u001b[39minvalid:\n\u001b[1;32m---> 81\u001b[0m     flow \u001b[39m=\u001b[39m client\u001b[39m.\u001b[39;49mflow_from_clientsecrets(\n\u001b[0;32m     82\u001b[0m         client_secret_file, SCOPES)\n\u001b[0;32m     83\u001b[0m     flow\u001b[39m.\u001b[39mredirect_uri \u001b[39m=\u001b[39m client\u001b[39m.\u001b[39mOOB_CALLBACK_URN\n\u001b[0;32m     84\u001b[0m     \u001b[39mif\u001b[39;00m flags:\n",
      "File \u001b[1;32md:\\Programs\\Python3.10.11\\lib\\site-packages\\oauth2client\\_helpers.py:133\u001b[0m, in \u001b[0;36mpositional.<locals>.positional_decorator.<locals>.positional_wrapper\u001b[1;34m(*args, **kwargs)\u001b[0m\n\u001b[0;32m    131\u001b[0m     \u001b[39melif\u001b[39;00m positional_parameters_enforcement \u001b[39m==\u001b[39m POSITIONAL_WARNING:\n\u001b[0;32m    132\u001b[0m         logger\u001b[39m.\u001b[39mwarning(message)\n\u001b[1;32m--> 133\u001b[0m \u001b[39mreturn\u001b[39;00m wrapped(\u001b[39m*\u001b[39margs, \u001b[39m*\u001b[39m\u001b[39m*\u001b[39mkwargs)\n",
      "File \u001b[1;32md:\\Programs\\Python3.10.11\\lib\\site-packages\\oauth2client\\client.py:2134\u001b[0m, in \u001b[0;36mflow_from_clientsecrets\u001b[1;34m(filename, scope, redirect_uri, message, cache, login_hint, device_uri, pkce, code_verifier, prompt)\u001b[0m\n\u001b[0;32m   2097\u001b[0m \u001b[39m\u001b[39m\u001b[39m\"\"\"Create a Flow from a clientsecrets file.\u001b[39;00m\n\u001b[0;32m   2098\u001b[0m \n\u001b[0;32m   2099\u001b[0m \u001b[39mWill create the right kind of Flow based on the contents of the\u001b[39;00m\n\u001b[1;32m   (...)\u001b[0m\n\u001b[0;32m   2131\u001b[0m \u001b[39m                                             invalid.\u001b[39;00m\n\u001b[0;32m   2132\u001b[0m \u001b[39m\"\"\"\u001b[39;00m\n\u001b[0;32m   2133\u001b[0m \u001b[39mtry\u001b[39;00m:\n\u001b[1;32m-> 2134\u001b[0m     client_type, client_info \u001b[39m=\u001b[39m clientsecrets\u001b[39m.\u001b[39;49mloadfile(filename,\n\u001b[0;32m   2135\u001b[0m                                                       cache\u001b[39m=\u001b[39;49mcache)\n\u001b[0;32m   2136\u001b[0m     \u001b[39mif\u001b[39;00m client_type \u001b[39min\u001b[39;00m (clientsecrets\u001b[39m.\u001b[39mTYPE_WEB,\n\u001b[0;32m   2137\u001b[0m                        clientsecrets\u001b[39m.\u001b[39mTYPE_INSTALLED):\n\u001b[0;32m   2138\u001b[0m         constructor_kwargs \u001b[39m=\u001b[39m {\n\u001b[0;32m   2139\u001b[0m             \u001b[39m'\u001b[39m\u001b[39mredirect_uri\u001b[39m\u001b[39m'\u001b[39m: redirect_uri,\n\u001b[0;32m   2140\u001b[0m             \u001b[39m'\u001b[39m\u001b[39mauth_uri\u001b[39m\u001b[39m'\u001b[39m: client_info[\u001b[39m'\u001b[39m\u001b[39mauth_uri\u001b[39m\u001b[39m'\u001b[39m],\n\u001b[0;32m   2141\u001b[0m             \u001b[39m'\u001b[39m\u001b[39mtoken_uri\u001b[39m\u001b[39m'\u001b[39m: client_info[\u001b[39m'\u001b[39m\u001b[39mtoken_uri\u001b[39m\u001b[39m'\u001b[39m],\n\u001b[0;32m   2142\u001b[0m             \u001b[39m'\u001b[39m\u001b[39mlogin_hint\u001b[39m\u001b[39m'\u001b[39m: login_hint,\n\u001b[0;32m   2143\u001b[0m         }\n",
      "File \u001b[1;32md:\\Programs\\Python3.10.11\\lib\\site-packages\\oauth2client\\clientsecrets.py:165\u001b[0m, in \u001b[0;36mloadfile\u001b[1;34m(filename, cache)\u001b[0m\n\u001b[0;32m    162\u001b[0m _SECRET_NAMESPACE \u001b[39m=\u001b[39m \u001b[39m'\u001b[39m\u001b[39moauth2client:secrets#ns\u001b[39m\u001b[39m'\u001b[39m\n\u001b[0;32m    164\u001b[0m \u001b[39mif\u001b[39;00m \u001b[39mnot\u001b[39;00m cache:\n\u001b[1;32m--> 165\u001b[0m     \u001b[39mreturn\u001b[39;00m _loadfile(filename)\n\u001b[0;32m    167\u001b[0m obj \u001b[39m=\u001b[39m cache\u001b[39m.\u001b[39mget(filename, namespace\u001b[39m=\u001b[39m_SECRET_NAMESPACE)\n\u001b[0;32m    168\u001b[0m \u001b[39mif\u001b[39;00m obj \u001b[39mis\u001b[39;00m \u001b[39mNone\u001b[39;00m:\n",
      "File \u001b[1;32md:\\Programs\\Python3.10.11\\lib\\site-packages\\oauth2client\\clientsecrets.py:124\u001b[0m, in \u001b[0;36m_loadfile\u001b[1;34m(filename)\u001b[0m\n\u001b[0;32m    122\u001b[0m         obj \u001b[39m=\u001b[39m json\u001b[39m.\u001b[39mload(fp)\n\u001b[0;32m    123\u001b[0m \u001b[39mexcept\u001b[39;00m \u001b[39mIOError\u001b[39;00m \u001b[39mas\u001b[39;00m exc:\n\u001b[1;32m--> 124\u001b[0m     \u001b[39mraise\u001b[39;00m InvalidClientSecretsError(\u001b[39m'\u001b[39m\u001b[39mError opening file\u001b[39m\u001b[39m'\u001b[39m, exc\u001b[39m.\u001b[39mfilename,\n\u001b[0;32m    125\u001b[0m                                     exc\u001b[39m.\u001b[39mstrerror, exc\u001b[39m.\u001b[39merrno)\n\u001b[0;32m    126\u001b[0m \u001b[39mreturn\u001b[39;00m _validate_clientsecrets(obj)\n",
      "\u001b[1;31mInvalidClientSecretsError\u001b[0m: ('Error opening file', 'C:\\\\Users\\\\User\\\\.gdrive_private', 'No such file or directory', 2)"
     ]
    }
   ],
   "source": [
    "# download the raw info\n",
    "datasheet = '16KdPTUTJUqDMFtUkrSFRPGgfprX0rCr5GoTyYekZoE8'\n",
    "voc = g2d.download(datasheet, \"NoAnemia\", col_names=True, row_names=False)"
   ]
  },
  {
   "cell_type": "code",
   "execution_count": null,
   "metadata": {},
   "outputs": [],
   "source": [
    "# to save the clean vocabulary\n",
    "datasheet = '1apMcOVQ8i1iTzqgEQHgwJkUQIpUe4h8wCA82fMyV0Q4'\n",
    "d2g.upload(df, datasheet, \"Sheet4\", col_names=True, row_names=False)"
   ]
  }
 ],
 "metadata": {
  "kernelspec": {
   "display_name": "Python 3",
   "language": "python",
   "name": "python3"
  },
  "language_info": {
   "codemirror_mode": {
    "name": "ipython",
    "version": 3
   },
   "file_extension": ".py",
   "mimetype": "text/x-python",
   "name": "python",
   "nbconvert_exporter": "python",
   "pygments_lexer": "ipython3",
   "version": "3.10.11"
  },
  "orig_nbformat": 4
 },
 "nbformat": 4,
 "nbformat_minor": 2
}
