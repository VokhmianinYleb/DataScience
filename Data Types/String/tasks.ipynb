{
 "cells": [
  {
   "cell_type": "code",
   "execution_count": 2,
   "metadata": {},
   "outputs": [
    {
     "name": "stdout",
     "output_type": "stream",
     "text": [
      "abcing\n",
      "stringly\n"
     ]
    }
   ],
   "source": [
    "def task6(string):\n",
    "\t\"\"\"Write a Python program to add 'ing' at the end of a given string (length should be at least 3). If the given string already ends with 'ing', add 'ly' instead. If the string length of the given string is less than 3, leave it unchanged.\n",
    "\tSample String : 'abc'\n",
    "\tExpected Result : 'abcing'\n",
    "\tSample String : 'string'\n",
    "\tExpected Result : 'stringly'\"\"\"\n",
    "\n",
    "\tif len(string) > 2:\n",
    "\t\tif string[-3:] == 'ing':\n",
    "\t\t\treturn string + 'ly'\n",
    "\n",
    "\t\treturn string + 'ing'\n",
    "\n",
    "print(task6('abc'))\n",
    "print(task6('string'))"
   ]
  },
  {
   "cell_type": "code",
   "execution_count": null,
   "metadata": {},
   "outputs": [],
   "source": [
    "def task7(string):\n",
    "\t\"\"\"Write a Python program to find the first appearance of the substrings 'not' and 'poor' in a given string. If 'not' follows 'poor', replace the whole 'not'...'poor' substring with 'good'. Return the resulting string.\n",
    "\tSample String : 'The lyrics is not that poor!'\n",
    "\t'The lyrics is poor!'\n",
    "\tExpected Result : 'The lyrics is good!'\n",
    "\t'The lyrics is poor!'\"\"\"\n",
    "\n",
    "\tsnot = string.find('not')\n",
    "\tspoor = string.find('poor')\n",
    "\n",
    "\tif spoor > snot and snot > 0 and spoor > 0:\n",
    "\t\treturn string.replace(string[snot:(spoor+4)], 'good')\n",
    "\t\t\n",
    "\treturn string\n",
    "\n",
    "print(task7('The lyrics is not that poor!'))\n",
    "print(task7('The lyrics is poor!'))"
   ]
  },
  {
   "cell_type": "code",
   "execution_count": null,
   "metadata": {},
   "outputs": [],
   "source": [
    "def task8(list_characters):\n",
    "\t\"\"\"Write a Python function that takes a list of words and return the longest word and the length of the longest one.\n",
    "\tSample Output:\n",
    "\tLongest word: Exercises\n",
    "\tLength of the longest word: 9\"\"\"\n",
    "\n",
    "\tlongest_word = ''\n",
    "\tlongest_length = 0\n",
    "\n",
    "\tfor character in list_characters:\n",
    "\t\tif len(character) > longest_length:\n",
    "\t\t\tlongest_word = character\n",
    "\t\t\tlongest_length = len(character)\n",
    "\n",
    "\treturn longest_word, longest_length\n",
    "\n",
    "result = task8([\"One\", \"Two\", \"Three\"])\n",
    "print(f\"Longest word: {result[0]}\")\n",
    "print(f\"Length of the longest word: {result[1]}\")"
   ]
  },
  {
   "cell_type": "code",
   "execution_count": null,
   "metadata": {},
   "outputs": [],
   "source": [
    "def task10(string):\n",
    "\t\"\"\"Write a Python program to change a given string to a newly string where the first and last chars have been exchanged.\"\"\"\n",
    "\n",
    "\treturn string[-1:] + string[1:-1] + string[:1]\n",
    "\n",
    "print(task10(\"abc\"))\n",
    "print(task10(\"xyz\"))\n"
   ]
  },
  {
   "cell_type": "code",
   "execution_count": null,
   "metadata": {},
   "outputs": [],
   "source": [
    "def task11(string):\n",
    "\t\"\"\"Write a Python program to remove characters that have odd index values in a given string.\"\"\"\n",
    "\n",
    "\tnew_string = \"\"\n",
    "\tfor i in range(len(string)):\n",
    "\t\tif i % 2 == 0:\n",
    "\t\t\tnew_string += string[i]\n",
    "\n",
    "\treturn new_string\n",
    "\n",
    "print(task11('abcdef'))\n",
    "print(task11('python'))"
   ]
  },
  {
   "cell_type": "code",
   "execution_count": null,
   "metadata": {},
   "outputs": [],
   "source": [
    "def task15(tag, string):\n",
    "\t\"\"\"Write a Python function to create an HTML string with tags around the word(s).\n",
    "\tSample function and result :\n",
    "\tadd_tags('i', 'Python') -> '<i>Python</i>'\n",
    "\tadd_tags('b', 'Python Tutorial') -> '<b>Python Tutorial </b>'\"\"\"\n",
    "\n",
    "\treturn f\"<{tag}>{string}</{tag}>\"\n",
    "\n",
    "print(task15(\"i\", \"Python\"))\n",
    "print(task15(\"b\", \"Python Tutorial\"))"
   ]
  },
  {
   "cell_type": "code",
   "execution_count": 1,
   "metadata": {},
   "outputs": [
    {
     "name": "stdout",
     "output_type": "stream",
     "text": [
      "ipy\n",
      "pyt\n"
     ]
    }
   ],
   "source": [
    "\n",
    "def task18(string):\n",
    "\t\"\"\"Write a Python function to get a string made of the first three characters of a specified string. If the length of the string is less than 3, return the original string.\n",
    "\tSample function and result :\n",
    "\tfirst_three('ipy') -> ipy\n",
    "\tfirst_three('python') -> pyt\"\"\"\n",
    "\n",
    "\tif len(string) < 3:\n",
    "\t\treturn string\n",
    "\n",
    "\treturn string[:3]\n",
    "\n",
    "print(task18('ipy'))\n",
    "print(task18('python'))"
   ]
  }
 ],
 "metadata": {
  "kernelspec": {
   "display_name": "Python 3",
   "language": "python",
   "name": "python3"
  },
  "language_info": {
   "codemirror_mode": {
    "name": "ipython",
    "version": 3
   },
   "file_extension": ".py",
   "mimetype": "text/x-python",
   "name": "python",
   "nbconvert_exporter": "python",
   "pygments_lexer": "ipython3",
   "version": "3.10.7"
  },
  "orig_nbformat": 4
 },
 "nbformat": 4,
 "nbformat_minor": 2
}
