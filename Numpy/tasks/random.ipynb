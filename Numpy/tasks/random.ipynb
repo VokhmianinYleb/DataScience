{
 "cells": [
  {
   "cell_type": "code",
   "execution_count": 1,
   "metadata": {},
   "outputs": [
    {
     "name": "stdout",
     "output_type": "stream",
     "text": [
      "[ 0.04966038  0.97221474  2.19735629 -0.51412839 -0.36355858]\n"
     ]
    }
   ],
   "source": [
    "\"\"\"1. Write a NumPy program to generate five random numbers from the normal distribution.\n",
    "Expected Output:\n",
    "[-0.43262625 -1.10836787 1.80791413 0.69287463 -0.53742101]\"\"\"\n",
    "\n",
    "from numpy import random\n",
    "\n",
    "print(random.normal(size = 5))"
   ]
  },
  {
   "cell_type": "code",
   "execution_count": 2,
   "metadata": {},
   "outputs": [
    {
     "name": "stdout",
     "output_type": "stream",
     "text": [
      "[12 19 20 11 23 25]\n"
     ]
    }
   ],
   "source": [
    "\"\"\"2. Write a NumPy program to generate six random integers between 10 and 30.\n",
    "Expected Output:\n",
    "[20 28 27 17 28 29]\"\"\"\n",
    "\n",
    "from numpy import random\n",
    "\n",
    "print(random.randint(low = 10, high = 30, size = 6))"
   ]
  },
  {
   "cell_type": "code",
   "execution_count": 5,
   "metadata": {},
   "outputs": [
    {
     "name": "stdout",
     "output_type": "stream",
     "text": [
      "[[[102  58 141 209  44]\n",
      "  [223 216 253  80 179]\n",
      "  [134 108  92 144 231]\n",
      "  ...\n",
      "  [ 58 163 182 166 226]\n",
      "  [ 99 169   1 197  54]\n",
      "  [205 200 224 195  64]]\n",
      "\n",
      " [[ 24 193  77  87 221]\n",
      "  [ 85 254   5 172 163]\n",
      "  [129 120 254 235 132]\n",
      "  ...\n",
      "  [  2 101  64  94  99]\n",
      "  [252  72 225  63  81]\n",
      "  [ 51 242 165 111 232]]\n",
      "\n",
      " [[166 186   3 217 199]\n",
      "  [ 83 184 244 145 116]\n",
      "  [ 99 205 199 241 121]\n",
      "  ...\n",
      "  [127  56 209 189 144]\n",
      "  [104 253  43 200 154]\n",
      "  [205  52  97 220  84]]\n",
      "\n",
      " ...\n",
      "\n",
      " [[180 225 210  85 187]\n",
      "  [ 19 137 148 159 135]\n",
      "  [191 220 142  30 250]\n",
      "  ...\n",
      "  [ 49 197 130  20 233]\n",
      "  [145  38  64 223 180]\n",
      "  [ 10  52 219  16 226]]\n",
      "\n",
      " [[155 188 137  81 104]\n",
      "  [ 21  96 179  59  24]\n",
      "  [212  66  52 249 249]\n",
      "  ...\n",
      "  [250   2 126 223  52]\n",
      "  [224  83 128 107 250]\n",
      "  [153  17   9 110 223]]\n",
      "\n",
      " [[ 51 165  37  73   3]\n",
      "  [ 58  48   3 236  72]\n",
      "  [ 89 137 231 238 123]\n",
      "  ...\n",
      "  [107  99 146 161  95]\n",
      "  [254  71 221 156 181]\n",
      "  [ 94 138  45  16 235]]]\n"
     ]
    }
   ],
   "source": [
    "\"\"\"17. Write a NumPy program to create a three-dimension array with shape (300,400,5) and set to a variable. Fill the array elements with values using unsigned integer (0 to 255).\"\"\"\n",
    "\n",
    "import numpy as np\n",
    "from numpy import random\n",
    "\n",
    "print(random.randint(low = 0, high = 256, size = (300, 400, 5)))"
   ]
  },
  {
   "cell_type": "code",
   "execution_count": 12,
   "metadata": {},
   "outputs": [
    {
     "name": "stdout",
     "output_type": "stream",
     "text": [
      "[4 3 1 9 2 8 5 7 6 0]\n",
      "[6 5 7 2 1 4 3 9 0 8]\n"
     ]
    }
   ],
   "source": [
    "\"\"\"6. Write a NumPy program to shuffle numbers between 0 and 10 (inclusive).\n",
    "Sample Output:\n",
    "[5 7 9 0 2 3 1 6 8 4]\n",
    "Same result using permutation():\n",
    "[6 7 4 5 8 2 3 9 0 1]\"\"\"\n",
    "\n",
    "import numpy as np\n",
    "from numpy import random\n",
    "\n",
    "x = np.arange(10)\n",
    "random.shuffle(x)\n",
    "print(x)\n",
    "print(random.permutation(10))"
   ]
  }
 ],
 "metadata": {
  "kernelspec": {
   "display_name": "Python 3",
   "language": "python",
   "name": "python3"
  },
  "language_info": {
   "codemirror_mode": {
    "name": "ipython",
    "version": 3
   },
   "file_extension": ".py",
   "mimetype": "text/x-python",
   "name": "python",
   "nbconvert_exporter": "python",
   "pygments_lexer": "ipython3",
   "version": "3.10.7"
  },
  "orig_nbformat": 4
 },
 "nbformat": 4,
 "nbformat_minor": 2
}
