{
 "cells": [
  {
   "cell_type": "code",
   "execution_count": 1,
   "metadata": {},
   "outputs": [
    {
     "name": "stdout",
     "output_type": "stream",
     "text": [
      "[[10 20]\n",
      " [30 40]]\n",
      "[[10 40]\n",
      " [20 30]]\n",
      "[10 20 30 40]\n"
     ]
    }
   ],
   "source": [
    "\"\"\"1. Write a NumPy program to sort a given array of shape 2 along the first axis, last axis and on flattened array.\n",
    "Expected Output:\n",
    "Original array:\n",
    "[[10 40]\n",
    "[30 20]]\n",
    "Sort the array along the first axis:\n",
    "[[10 20]\n",
    "[30 40]]\n",
    "Sort the array along the last axis:\n",
    "[[10 40]\n",
    "[20 30]]\n",
    "Sort the flattened array:\n",
    "[10 20 30 40]\"\"\"\n",
    "\n",
    "import numpy as np\n",
    "\n",
    "a = np.array([[10, 40], [30, 20]])\n",
    "print(np.sort(a, axis = 0))\n",
    "print(np.sort(a))\n",
    "print(np.sort(a, axis = None))"
   ]
  }
 ],
 "metadata": {
  "kernelspec": {
   "display_name": "Python 3",
   "language": "python",
   "name": "python3"
  },
  "language_info": {
   "codemirror_mode": {
    "name": "ipython",
    "version": 3
   },
   "file_extension": ".py",
   "mimetype": "text/x-python",
   "name": "python",
   "nbconvert_exporter": "python",
   "pygments_lexer": "ipython3",
   "version": "3.10.7"
  },
  "orig_nbformat": 4
 },
 "nbformat": 4,
 "nbformat_minor": 2
}
