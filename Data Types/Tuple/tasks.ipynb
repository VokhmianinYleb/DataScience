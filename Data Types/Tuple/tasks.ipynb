{
 "cells": [
  {
   "cell_type": "code",
   "execution_count": null,
   "metadata": {},
   "outputs": [],
   "source": [
    "def task6(simple_tuple):\n",
    "\t\"\"\"Write a Python program to convert a tuple to a string.\"\"\"\n",
    "\t\n",
    "\treturn ''.join(simple_tuple)\n",
    "\n",
    "print(task6(('a', 'b', 'c')))"
   ]
  },
  {
   "cell_type": "code",
   "execution_count": null,
   "metadata": {},
   "outputs": [],
   "source": [
    "def task10(simple_tuple, el):\n",
    "\t\"\"\"Write a Python program to check whether an element exists within a tuple.\"\"\"\n",
    "\n",
    "\treturn el in simple_tuple\n",
    "\n",
    "print(task10(('a', 'b', 'c'), 'a'))\n",
    "print(task10(('a', 'b', 'c'), 'z'))"
   ]
  },
  {
   "cell_type": "code",
   "execution_count": 3,
   "metadata": {},
   "outputs": [
    {
     "name": "stdout",
     "output_type": "stream",
     "text": [
      "('a', 'b', 'c')\n"
     ]
    }
   ],
   "source": [
    "def task11(simple_list):\n",
    "\t\"\"\"Write a Python program to convert a list to a tuple.\"\"\"\n",
    "\n",
    "\treturn tuple(simple_list)\n",
    "\n",
    "print(task11(['a', 'b', 'c']))"
   ]
  },
  {
   "cell_type": "code",
   "execution_count": 2,
   "metadata": {},
   "outputs": [
    {
     "name": "stdout",
     "output_type": "stream",
     "text": [
      "2\n"
     ]
    }
   ],
   "source": [
    "def task24(simple_list):\n",
    "\t\"\"\"Write a Python program to count the elements in a list until an element is a tuple.\"\"\"\n",
    "\n",
    "\tcount = 0\n",
    "\tfor el in simple_list:\n",
    "\t\tif isinstance(el, tuple):\n",
    "\t\t\tbreak\n",
    "\n",
    "\t\tcount += 1\n",
    "\n",
    "\treturn count\n",
    "\n",
    "print(task24(['1', 2, ('3', 5), 4, \"5\"]))"
   ]
  }
 ],
 "metadata": {
  "kernelspec": {
   "display_name": "Python 3",
   "language": "python",
   "name": "python3"
  },
  "language_info": {
   "codemirror_mode": {
    "name": "ipython",
    "version": 3
   },
   "file_extension": ".py",
   "mimetype": "text/x-python",
   "name": "python",
   "nbconvert_exporter": "python",
   "pygments_lexer": "ipython3",
   "version": "3.10.7"
  },
  "orig_nbformat": 4
 },
 "nbformat": 4,
 "nbformat_minor": 2
}
