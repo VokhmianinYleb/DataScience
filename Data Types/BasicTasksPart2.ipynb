{
 "cells": [
  {
   "attachments": {},
   "cell_type": "markdown",
   "metadata": {},
   "source": [
    "[Python Basic(Part-II) - Exercises, Practice, Solution](https://www.w3resource.com/python-exercises/basic/)"
   ]
  },
  {
   "cell_type": "code",
   "execution_count": 2,
   "metadata": {},
   "outputs": [
    {
     "name": "stdout",
     "output_type": "stream",
     "text": [
      "Largest Digit of the said number: 9\n",
      "Smallest Digit of the said number: 2\n"
     ]
    }
   ],
   "source": [
    "def task145(a):\n",
    "\t\"\"\"145. Write a Python program to find the largest and smallest digits of a given number.\n",
    "\t\tOriginal Number: 9387422\n",
    "\t\tLargest Digit of the said number: 9\n",
    "\t\tSmallest Digit of the said number: 2\n",
    "\t\tOriginal Number: 500\n",
    "\t\tLargest Digit of the said number: 5\n",
    "\t\tSmallest Digit of the said number: 0\n",
    "\t\tOriginal Number: 231548\n",
    "\t\tLargest Digit of the said number: 8\n",
    "\t\tSmallest Digit of the said number: 1\"\"\"\n",
    "\t\n",
    "\tb = list(map(int, list(str(a))))\n",
    "\treturn min(b), max(b)\n",
    "\n",
    "min_max = task145(9387422)\n",
    "print(f\"Largest Digit of the said number: {min_max[1]}\\nSmallest Digit of the said number: {min_max[0]}\")"
   ]
  },
  {
   "cell_type": "code",
   "execution_count": 9,
   "metadata": {},
   "outputs": [
    {
     "name": "stdout",
     "output_type": "stream",
     "text": [
      "True\n"
     ]
    }
   ],
   "source": [
    "def task146(numbers_list):\n",
    "\t\"\"\"146. A Python list contains two positive integers. Write a Python program to check whether the cube root of the first number is equal to the square root of the second number.\n",
    "\tSample Data:\n",
    "\t([8, 4]) -> True\n",
    "\t([64, 16]) -> True\n",
    "\t([64, 36]) -> False\"\"\"\n",
    "\n",
    "\tif round(numbers_list[0] ** (1/3)) == numbers_list[1] ** 0.5:\n",
    "\t\treturn True\n",
    "\t\n",
    "\treturn False\n",
    "\n",
    "print(task146([64, 16]))"
   ]
  },
  {
   "cell_type": "code",
   "execution_count": 16,
   "metadata": {},
   "outputs": [
    {
     "name": "stdout",
     "output_type": "stream",
     "text": [
      "True\n",
      "True\n"
     ]
    }
   ],
   "source": [
    "def task147(numbers_list):\n",
    "\t\"\"\"147. A Python list contains three positive integers. Write a Python program to check whether the sum of the digits in each number is equal or not. Return true otherwise false.\n",
    "\tSample Data:\n",
    "\t([13, 4, 22]) -> True\n",
    "\t([-13, 4, 22]) -> False\n",
    "\t([45, 63, 90]) -> True\"\"\"\n",
    "\t\n",
    "\ts = set()\n",
    "\tfor i in numbers_list:\n",
    "\t\ts.add(sum(list(map(int, list(str(i))))))\n",
    "\n",
    "\treturn len(s) == 1\n",
    "\n",
    "print(task147([13, 4, 22]))\n",
    "print(task147([45, 63, 90]))\n",
    "        "
   ]
  },
  {
   "cell_type": "code",
   "execution_count": 18,
   "metadata": {},
   "outputs": [
    {
     "name": "stdout",
     "output_type": "stream",
     "text": [
      "4\n",
      "1\n",
      "0\n"
     ]
    }
   ],
   "source": [
    "def task148(simple_list):\n",
    "\t\"\"\"148. A Python list contains some positive integers. Write a Python program to count the numbers that are greater than the previous number on the list.\n",
    "\tSample Data:\n",
    "\t([1, 4, 7, 9, 11, 5]) -> 4\n",
    "\t([1, 3, 3, 2, 2]) -> 1\n",
    "\t([4, 3, 2, 1]) -> 0\"\"\"\n",
    "    \n",
    "\tcount = 0\n",
    "\tfor i in range(1, len(simple_list)):\n",
    "\t\tif simple_list[i] > simple_list[i - 1]:\n",
    "\t\t\tcount += 1\n",
    "\n",
    "\treturn count\n",
    "\n",
    "print(task148([1, 4, 7, 9, 11, 5]))\n",
    "print(task148([1, 3, 3, 2, 2]))\n",
    "print(task148([4, 3, 2, 1]))"
   ]
  },
  {
   "cell_type": "code",
   "execution_count": 23,
   "metadata": {},
   "outputs": [
    {
     "name": "stdout",
     "output_type": "stream",
     "text": [
      "[[2, 2], [2, 2]]\n",
      "[[5, 5, 5, 5, 5], [5, 5, 5, 5, 5], [5, 5, 5, 5, 5], [5, 5, 5, 5, 5], [5, 5, 5, 5, 5]]\n",
      "[]\n",
      "[]\n",
      "[[1]]\n"
     ]
    }
   ],
   "source": [
    "def task149(n):\n",
    "\t\"\"\"149. Write a Python program that takes a positive integer and creates an N x N square filled with the integer N. Display the N x N square.\n",
    "\tSample Data:\n",
    "\t(2) -> [[2, 2], [2, 2]]\n",
    "\t(5) -> [[5, 5, 5, 5, 5], [5, 5, 5, 5, 5], [5, 5, 5, 5, 5], [5, 5, 5, 5, 5], [5, 5, 5, 5, 5]]\n",
    "\t(-6) -> []\"\"\"\n",
    "\n",
    "\treturn [[n] * n for i in range(n)]\n",
    "\n",
    "print(task149(2))\n",
    "print(task149(5))\n",
    "print(task149(-6))\n",
    "print(task149(0))\n",
    "print(task149(1))"
   ]
  },
  {
   "cell_type": "code",
   "execution_count": 30,
   "metadata": {},
   "outputs": [
    {
     "name": "stdout",
     "output_type": "stream",
     "text": [
      "1\n",
      "2\n",
      "2\n"
     ]
    }
   ],
   "source": [
    "def task150(a):\n",
    "\t\"\"\"150. Write a Python program that takes a positive integer and calculates the cube root of the number until the number is less than three. Count the number of steps to complete the task.\n",
    "\tSample Data:\n",
    "\t(3) -> 1\n",
    "\t(39) -> 2\n",
    "\t(10000) -> 2\"\"\"\n",
    "\n",
    "\tcount = 0\n",
    "\twhile a >= 3:\n",
    "\t\ta **= (1/3)\n",
    "\t\tcount += 1\n",
    "\n",
    "\treturn count\n",
    "\n",
    "print(task150(3))\n",
    "print(task150(39))\n",
    "print(task150(10000))"
   ]
  }
 ],
 "metadata": {
  "kernelspec": {
   "display_name": "Python 3",
   "language": "python",
   "name": "python3"
  },
  "language_info": {
   "codemirror_mode": {
    "name": "ipython",
    "version": 3
   },
   "file_extension": ".py",
   "mimetype": "text/x-python",
   "name": "python",
   "nbconvert_exporter": "python",
   "pygments_lexer": "ipython3",
   "version": "3.10.7"
  },
  "orig_nbformat": 4
 },
 "nbformat": 4,
 "nbformat_minor": 2
}
