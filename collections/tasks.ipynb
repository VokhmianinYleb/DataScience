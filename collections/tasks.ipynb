{
 "cells": [
  {
   "cell_type": "code",
   "execution_count": 1,
   "metadata": {},
   "outputs": [
    {
     "name": "stdout",
     "output_type": "stream",
     "text": [
      "a\n",
      "e\n",
      "i\n",
      "o\n",
      "u\n"
     ]
    }
   ],
   "source": [
    "\"\"\"3. Write a Python program to create a new deque with three items and iterate over the deque's elements.\n",
    "Sample Output:\n",
    "a\n",
    "e\n",
    "i\n",
    "o\n",
    "u\"\"\"\n",
    "\n",
    "from collections import deque\n",
    "\n",
    "d = deque('aeiou')\n",
    "\n",
    "for i in d:\n",
    "    print(i)"
   ]
  },
  {
   "cell_type": "code",
   "execution_count": 5,
   "metadata": {},
   "outputs": [
    {
     "name": "stdout",
     "output_type": "stream",
     "text": [
      "Afghanistan 93\n",
      "Albania 355\n",
      "Algeria 213\n",
      "Andorra 376\n",
      "Angola 244\n",
      "In reverse order:\n",
      "Angola 244\n",
      "Andorra 376\n",
      "Algeria 213\n",
      "Albania 355\n",
      "Afghanistan 93\n"
     ]
    }
   ],
   "source": [
    "\"\"\"34. Write a Python program to create an instance of an OrderedDict using a given dictionary. Sort the dictionary during the creation and print the members of the dictionary in reverse order.\n",
    "Sample Output:\n",
    "Afghanistan 93\n",
    "Albania 355\n",
    "Algeria 213\n",
    "Andorra 376\n",
    "Angola 244\n",
    "In reverse order:\n",
    "Angola 244\n",
    "Andorra 376\n",
    "Algeria 213\n",
    "Albania 355\n",
    "Afghanistan 93\"\"\"\n",
    "\n",
    "from collections import OrderedDict\n",
    "\n",
    "d = {\n",
    "\t\"Afghanistan\": 93,\n",
    "\t\"Albania\": 355,\n",
    "\t\"Algeria\": 213,\n",
    "\t'Andorra': 376,\n",
    "\t'Angola': 244\n",
    "}\n",
    "ordered_dict = OrderedDict(d)\n",
    "\n",
    "for key, value in ordered_dict.items():\n",
    "    print(key, value)\n",
    "    \n",
    "print('In reverse order:')\n",
    "\n",
    "for key, value in reversed(ordered_dict.items()):\n",
    "    print(key, value)\n",
    "    "
   ]
  }
 ],
 "metadata": {
  "kernelspec": {
   "display_name": "Python 3",
   "language": "python",
   "name": "python3"
  },
  "language_info": {
   "codemirror_mode": {
    "name": "ipython",
    "version": 3
   },
   "file_extension": ".py",
   "mimetype": "text/x-python",
   "name": "python",
   "nbconvert_exporter": "python",
   "pygments_lexer": "ipython3",
   "version": "3.10.7"
  },
  "orig_nbformat": 4
 },
 "nbformat": 4,
 "nbformat_minor": 2
}
